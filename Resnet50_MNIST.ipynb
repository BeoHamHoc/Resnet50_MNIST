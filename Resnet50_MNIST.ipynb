{
 "cells": [
  {
   "cell_type": "code",
   "id": "initial_id",
   "metadata": {
    "collapsed": true,
    "ExecuteTime": {
     "end_time": "2024-11-22T08:07:22.912035Z",
     "start_time": "2024-11-22T08:07:16.572319Z"
    }
   },
   "source": [
    "!pip install torchview\n",
    "!pip install graphviz\n",
    "!pip install torchsummary\n",
    "!pip install pillow"
   ],
   "outputs": [
    {
     "name": "stdout",
     "output_type": "stream",
     "text": [
      "Requirement already satisfied: torchview in /home/phong/miniconda3/lib/python3.12/site-packages (0.2.6)\r\n",
      "Requirement already satisfied: graphviz in /home/phong/miniconda3/lib/python3.12/site-packages (0.20.3)\r\n",
      "Requirement already satisfied: torchsummary in /home/phong/miniconda3/lib/python3.12/site-packages (1.5.1)\r\n",
      "Requirement already satisfied: pillow in /home/phong/miniconda3/lib/python3.12/site-packages (11.0.0)\r\n"
     ]
    }
   ],
   "execution_count": 10
  },
  {
   "metadata": {
    "ExecuteTime": {
     "end_time": "2024-11-22T08:07:22.935358Z",
     "start_time": "2024-11-22T08:07:22.928870Z"
    }
   },
   "cell_type": "code",
   "source": [
    "import torch\n",
    "from matplotlib import pyplot as plt\n",
    "from PIL import Image\n",
    "\n",
    "# all nn libraries nn.layer, convs and loss functions\n",
    "import torch.nn as nn\n",
    "from IPython.display import Image\n",
    "import torchvision\n",
    "from torchview import draw_graph\n",
    "from torchsummary import summary\n",
    "import torch\n",
    "import torchvision\n",
    "import torchvision.transforms as transforms\n",
    "from torch.utils.data import random_split\n",
    "import os\n",
    "\n",
    "# set device\n",
    "device = torch.device('cuda' if torch.cuda.is_available() else 'cpu')\n",
    "print(device)"
   ],
   "id": "f237d966bf99f08d",
   "outputs": [
    {
     "name": "stdout",
     "output_type": "stream",
     "text": [
      "cuda\n"
     ]
    }
   ],
   "execution_count": 11
  },
  {
   "metadata": {
    "ExecuteTime": {
     "end_time": "2024-11-22T08:07:22.987141Z",
     "start_time": "2024-11-22T08:07:22.984154Z"
    }
   },
   "cell_type": "code",
   "source": [
    "model_parameters = {}\n",
    "model_parameters['resnet50'] = ([64, 128, 256, 512], [3, 4, 6, 3], 4)"
   ],
   "id": "5a9af08e0e75cd0d",
   "outputs": [],
   "execution_count": 12
  },
  {
   "metadata": {
    "ExecuteTime": {
     "end_time": "2024-11-22T08:07:23.037123Z",
     "start_time": "2024-11-22T08:07:23.031797Z"
    }
   },
   "cell_type": "code",
   "source": [
    "class Bottleneck(nn.Module):\n",
    "    def __init__(self, in_channels, intermediate_channels, expansion, stride):\n",
    "        super(Bottleneck, self).__init__()\n",
    "        self.expansion = expansion\n",
    "        self.in_channels = in_channels\n",
    "        self.intermediate_channels = intermediate_channels\n",
    "        # i.e. if dim(x) == dim(F) => Identity function\n",
    "        if self.in_channels == self.intermediate_channels * self.expansion:\n",
    "            self.identity = True\n",
    "        else:\n",
    "            self.identity = False\n",
    "            projection_layer = []\n",
    "            projection_layer.append(nn.Conv2d(in_channels=self.in_channels, out_channels=self.intermediate_channels * self.expansion,\n",
    "                                                kernel_size=1, stride=stride, padding=0, bias=False))\n",
    "            projection_layer.append(nn.BatchNorm2d(self.intermediate_channels * self.expansion))\n",
    "            # Only conv->BN and no ReLU\n",
    "            # projection_layer.append(nn.ReLU())\n",
    "            self.projection = nn.Sequential(*projection_layer)\n",
    "        # commonly used relu\n",
    "        self.relu = nn.ReLU()\n",
    "        # bottleneck\n",
    "        # 1x1\n",
    "        self.conv1_1x1 = nn.Conv2d(in_channels=self.in_channels, out_channels=self.intermediate_channels, kernel_size=1,\n",
    "                                   stride=1, padding=0, bias=False)\n",
    "        self.batchnorm1 = nn.BatchNorm2d(self.intermediate_channels)\n",
    "\n",
    "        # 3x3\n",
    "        self.conv2_3x3 = nn.Conv2d(in_channels=self.intermediate_channels, out_channels=self.intermediate_channels,\n",
    "                                   kernel_size=3, stride=stride, padding=1, bias=False)\n",
    "        self.batchnorm2 = nn.BatchNorm2d(self.intermediate_channels)\n",
    "\n",
    "        # 1x1\n",
    "        self.conv3_1x1 = nn.Conv2d(in_channels=self.intermediate_channels,\n",
    "                                   out_channels=self.intermediate_channels * self.expansion, kernel_size=1, stride=1,\n",
    "                                   padding=0, bias=False)\n",
    "        self.batchnorm3 = nn.BatchNorm2d(self.intermediate_channels * self.expansion)\n",
    "\n",
    "    def forward(self, x):\n",
    "        # input stored to be added before the final relu\n",
    "        in_x = x\n",
    "        x = self.relu(self.batchnorm1(self.conv1_1x1(x)))\n",
    "        # conv3x3->BN->relu\n",
    "        x = self.relu(self.batchnorm2(self.conv2_3x3(x)))\n",
    "        # conv1x1->BN\n",
    "        x = self.batchnorm3(self.conv3_1x1(x))\n",
    "        # identity or projected mapping\n",
    "        if self.identity:\n",
    "            x += in_x\n",
    "        else:\n",
    "            x += self.projection(in_x)\n",
    "        # final relu\n",
    "        x = self.relu(x)\n",
    "        return x"
   ],
   "id": "7145ff441ab77e93",
   "outputs": [],
   "execution_count": 13
  },
  {
   "metadata": {
    "ExecuteTime": {
     "end_time": "2024-11-22T08:07:23.106508Z",
     "start_time": "2024-11-22T08:07:23.101801Z"
    }
   },
   "cell_type": "code",
   "source": [
    "class ResNet(nn.Module):\n",
    "    def __init__(self, resnet_variant, in_channels, num_classes):\n",
    "        super(ResNet, self).__init__()\n",
    "        self.channels_list = resnet_variant[0]\n",
    "        self.repeatition_list = resnet_variant[1]\n",
    "        self.expansion = resnet_variant[2]\n",
    "\n",
    "        # B1\n",
    "        self.conv1 = nn.Conv2d(in_channels=in_channels, out_channels=64, kernel_size=7, stride=2, padding=3, bias=False)\n",
    "        self.batchnorm1 = nn.BatchNorm2d(64)\n",
    "        self.relu = nn.ReLU()\n",
    "        # B2-B5\n",
    "        self.maxpool = nn.MaxPool2d(kernel_size=3, stride=2, padding=1)\n",
    "        self.block1 = self._make_blocks(64, self.channels_list[0], self.repeatition_list[0], self.expansion, stride=1)\n",
    "        self.block2 = self._make_blocks(self.channels_list[0] * self.expansion, self.channels_list[1],\n",
    "                                        self.repeatition_list[1], self.expansion, stride=2)\n",
    "        self.block3 = self._make_blocks(self.channels_list[1] * self.expansion, self.channels_list[2],\n",
    "                                        self.repeatition_list[2], self.expansion, stride=2)\n",
    "        self.block4 = self._make_blocks(self.channels_list[2] * self.expansion, self.channels_list[3],\n",
    "                                        self.repeatition_list[3], self.expansion, stride=2)\n",
    "        self.average_pool = nn.AdaptiveAvgPool2d(1)\n",
    "        self.fc1 = nn.Linear(self.channels_list[3] * self.expansion, num_classes)\n",
    "\n",
    "    def forward(self, x):\n",
    "        x = self.relu(self.batchnorm1(self.conv1(x)))\n",
    "        x = self.maxpool(x)\n",
    "        x = self.block1(x)\n",
    "        x = self.block2(x)\n",
    "        x = self.block3(x)\n",
    "        x = self.block4(x)\n",
    "        x = self.average_pool(x)\n",
    "        x = torch.flatten(x, start_dim=1)\n",
    "        x = self.fc1(x)\n",
    "        return x\n",
    "\n",
    "    def _make_blocks(self, in_channels, intermediate_channels, num_repeat, expansion, stride):\n",
    "        layers = []\n",
    "        layers.append(Bottleneck(in_channels, intermediate_channels, expansion, stride=stride))\n",
    "        for num in range(1, num_repeat):\n",
    "            layers.append(Bottleneck(intermediate_channels * expansion, intermediate_channels, expansion, stride=1))\n",
    "        return nn.Sequential(*layers)\n"
   ],
   "id": "77e797564526fe2c",
   "outputs": [],
   "execution_count": 14
  },
  {
   "metadata": {
    "ExecuteTime": {
     "end_time": "2024-11-22T08:07:23.222231Z",
     "start_time": "2024-11-22T08:07:23.144517Z"
    }
   },
   "cell_type": "code",
   "source": [
    "train_dataset = torchvision.datasets.MNIST(root='./data', train=True, download=True, transform=transforms.ToTensor())\n",
    "test_dataset = torchvision.datasets.MNIST(root='./data', train=False, download=True, transform=transforms.ToTensor())\n",
    "train_size = int(0.8 * len(train_dataset))\n",
    "val_size = len(train_dataset) - train_size\n",
    "train_dataset, val_dataset = random_split(train_dataset, [train_size, val_size])\n",
    "\n",
    "train_loader = torch.utils.data.DataLoader(train_dataset, batch_size=64, shuffle=True)\n",
    "val_loader = torch.utils.data.DataLoader(val_dataset, batch_size=64, shuffle=False)\n",
    "test_loader = torch.utils.data.DataLoader(test_dataset, batch_size=64, shuffle=False)\n",
    "\n"
   ],
   "id": "55b3912c3b375325",
   "outputs": [],
   "execution_count": 15
  },
  {
   "metadata": {
    "ExecuteTime": {
     "end_time": "2024-11-22T08:07:23.350475Z",
     "start_time": "2024-11-22T08:07:23.246227Z"
    }
   },
   "cell_type": "code",
   "source": [
    "\n",
    "images, labels = next(iter(train_loader))\n",
    "for i in range(5):\n",
    "    plt.subplot(1, 5, i + 1)\n",
    "    plt.imshow(images[i].squeeze(), cmap='gray')  # squeeze() để loại bỏ chiều kênh nếu cần\n",
    "    plt.title(f\"Label: {labels[i]}\")\n",
    "    plt.axis('off')\n",
    "\n",
    "plt.show()"
   ],
   "id": "a0f6ba8ad988afe",
   "outputs": [
    {
     "data": {
      "text/plain": [
       "<Figure size 640x480 with 5 Axes>"
      ],
      "image/png": "[encoded data removed]"
     },
     "metadata": {},
     "output_type": "display_data"
    }
   ],
   "execution_count": 16
  },
  {
   "metadata": {
    "ExecuteTime": {
     "end_time": "2024-11-22T08:07:23.555066Z",
     "start_time": "2024-11-22T08:07:23.372237Z"
    }
   },
   "cell_type": "code",
   "source": [
    "model = ResNet(model_parameters['resnet50'], in_channels=1, num_classes=10)\n",
    "model.to(device)  # Di chuyển mô hình đến thiết bị (CPU hoặc GPU)\n",
    "criterion = nn.CrossEntropyLoss()\n",
    "optimizer = torch.optim.Adam(model.parameters(), lr=0.0001)"
   ],
   "id": "27463ca78b02e2ca",
   "outputs": [],
   "execution_count": 17
  },
  {
   "metadata": {
    "ExecuteTime": {
     "end_time": "2024-11-22T08:09:23.421548Z",
     "start_time": "2024-11-22T08:07:23.595077Z"
    }
   },
   "cell_type": "code",
   "source": [
    "# Huấn luyện mô hình\n",
    "num_epochs = 10\n",
    "best_accuracy = 0.0\n",
    "patience = 2\n",
    "epochs_no_improve = 0\n",
    "\n",
    "best_model_path = 'best_model.pth'\n",
    "if os.path.exists(best_model_path):\n",
    "    # Load checkpoint nếu có\n",
    "    model.load_state_dict(torch.load(best_model_path))\n",
    "    print(f\"Loaded checkpoint from {best_model_path}\")\n",
    "    model.eval()\n",
    "    correct = 0\n",
    "    total = 0\n",
    "    with torch.no_grad():\n",
    "        for images, labels in val_loader:\n",
    "            images = images.to(device)\n",
    "            labels = labels.to(device)\n",
    "            outputs = model(images)\n",
    "            _, predicted = torch.max(outputs.data, 1)\n",
    "            total += labels.size(0)\n",
    "            correct += (predicted == labels).sum().item()\n",
    "    best_accuracy = 100 * correct / total\n",
    "    print(f\"Initial Validation Accuracy: {best_accuracy:.2f}%\")\n",
    "\n",
    "for epoch in range(num_epochs):\n",
    "    model.train()\n",
    "    train_loss = 0.0\n",
    "    for i, (images, labels) in enumerate(train_loader):\n",
    "        images = images.to(device)\n",
    "        labels = labels.to(device)\n",
    "        # Zero the parameter gradients\n",
    "        optimizer.zero_grad()\n",
    "        outputs = model(images)\n",
    "        loss = criterion(outputs, labels)\n",
    "        loss.backward()\n",
    "        optimizer.step()\n",
    "        train_loss += loss.item()\n",
    "\n",
    "    avg_train_loss = train_loss / len(train_loader)\n",
    "    print(f\"Epoch [{epoch + 1}/{num_epochs}], Train Loss: {avg_train_loss:.4f}\")\n",
    "\n",
    "    # Đánh giá mô hình trên tập xác thực\n",
    "    model.eval()\n",
    "    val_loss = 0.0\n",
    "    correct = 0\n",
    "    total = 0\n",
    "    with torch.no_grad():\n",
    "        for images, labels in val_loader:\n",
    "            images = images.to(device)\n",
    "            labels = labels.to(device)\n",
    "            outputs = model(images)\n",
    "            loss = criterion(outputs, labels)\n",
    "            val_loss += loss.item()\n",
    "            _, predicted = torch.max(outputs.data, 1)\n",
    "            total += labels.size(0)\n",
    "            correct += (predicted == labels).sum().item()\n",
    "\n",
    "    avg_val_loss = val_loss / len(val_loader)\n",
    "    accuracy = 100 * correct / total\n",
    "    print(\n",
    "        f\"Epoch [{epoch + 1}/{num_epochs}], Validation Accuracy: {accuracy:.2f}%, Validation Loss: {avg_val_loss:.4f}\")\n",
    "    if accuracy > best_accuracy:\n",
    "        best_accuracy = accuracy\n",
    "        torch.save(model.state_dict(), best_model_path)\n",
    "        print(f\"Saved best model with accuracy {best_accuracy:.2f}% to {best_model_path}\")\n",
    "    else:\n",
    "        epochs_no_improve += 1\n",
    "    if epochs_no_improve >= patience:\n",
    "        print(f\"Early stopping at epoch {epoch + 1} after {patience} epochs with no improvement.\")\n",
    "        break "
   ],
   "id": "34de2eef8606d46",
   "outputs": [
    {
     "name": "stdout",
     "output_type": "stream",
     "text": [
      "Loaded checkpoint from best_model.pth\n"
     ]
    },
    {
     "name": "stderr",
     "output_type": "stream",
     "text": [
      "/tmp/ipykernel_9797/1523514783.py:10: FutureWarning: You are using `torch.load` with `weights_only=False` (the current default value), which uses the default pickle module implicitly. It is possible to construct malicious pickle data which will execute arbitrary code during unpickling (See https://github.com/pytorch/pytorch/blob/main/SECURITY.md#untrusted-models for more details). In a future release, the default value for `weights_only` will be flipped to `True`. This limits the functions that could be executed during unpickling. Arbitrary objects will no longer be allowed to be loaded via this mode unless they are explicitly allowlisted by the user via `torch.serialization.add_safe_globals`. We recommend you start setting `weights_only=True` for any use case where you don't have full control of the loaded file. Please open an issue on GitHub for any issues related to this experimental feature.\n",
      "  model.load_state_dict(torch.load(best_model_path))\n"
     ]
    },
    {
     "name": "stdout",
     "output_type": "stream",
     "text": [
      "Initial Validation Accuracy: 99.67%\n",
      "Epoch [1/10], Train Loss: 0.0183\n",
      "Epoch [1/10], Validation Accuracy: 99.70%, Validation Loss: 0.0123\n",
      "Saved best model with accuracy 99.70% to best_model.pth\n",
      "Epoch [2/10], Train Loss: 0.0106\n",
      "Epoch [2/10], Validation Accuracy: 99.70%, Validation Loss: 0.0129\n",
      "Epoch [3/10], Train Loss: 0.0108\n",
      "Epoch [3/10], Validation Accuracy: 99.59%, Validation Loss: 0.0172\n",
      "Early stopping at epoch 3 after 2 epochs with no improvement.\n"
     ]
    }
   ],
   "execution_count": 18
  },
  {
   "metadata": {
    "ExecuteTime": {
     "end_time": "2024-11-22T08:09:26.109574Z",
     "start_time": "2024-11-22T08:09:23.429652Z"
    }
   },
   "cell_type": "code",
   "source": [
    "model.eval()  # Chuyển sang chế độ evaluation\n",
    "test_loss = 0.0\n",
    "correct = 0\n",
    "total = 0\n",
    "with torch.no_grad():\n",
    "    for images, labels in test_loader:\n",
    "        images = images.to(device)\n",
    "        labels = labels.to(device)\n",
    "        outputs = model(images)\n",
    "        loss = criterion(outputs, labels)\n",
    "        test_loss += loss.item()\n",
    "        _, predicted = torch.max(outputs.data, 1)\n",
    "        total += labels.size(0)\n",
    "        correct += (predicted == labels).sum().item()\n",
    "\n",
    "avg_test_loss = test_loss / len(test_loader)\n",
    "accuracy = 100 * correct / total\n",
    "print(f\"Test Accuracy: {accuracy:.2f}%, Test Loss: {avg_test_loss:.4f}\")"
   ],
   "id": "a1fe9906f244d104",
   "outputs": [
    {
     "name": "stdout",
     "output_type": "stream",
     "text": [
      "Test Accuracy: 99.16%, Test Loss: 0.0302\n"
     ]
    }
   ],
   "execution_count": 19
  },
  {
   "metadata": {
    "ExecuteTime": {
     "end_time": "2024-11-22T08:09:26.261334Z",
     "start_time": "2024-11-22T08:09:26.125930Z"
    }
   },
   "cell_type": "code",
   "source": [
    "from PIL import Image\n",
    "\n",
    "def predict(image_path):\n",
    "    # Load and preprocess the image\n",
    "    \n",
    "    image = Image.open(image_path).convert('L')  # Convert to grayscale\n",
    "    image = Image.eval(image, lambda x: 255 - x)\n",
    "\n",
    "    image = image.resize((28, 28))\n",
    "    plt.imshow(image)\n",
    "    plt.axis('off')\n",
    "    plt.show()\n",
    "    transform = transforms.Compose([\n",
    "        transforms.ToTensor(),\n",
    "        transforms.Normalize((0.1307,), (0.3081,))\n",
    "    ])\n",
    "\n",
    "    image = transform(image).unsqueeze(0)\n",
    "\n",
    "    # Move tensor to the device\n",
    "    image = image.to(device)\n",
    "\n",
    "    # Make prediction\n",
    "    model.load_state_dict(torch.load(best_model_path))\n",
    "    model.eval()  # Set model to evaluation mode\n",
    "    with torch.no_grad():\n",
    "        output = model(image)\n",
    "        _, predicted = torch.max(output.data, 1)\n",
    "        predicted_class = predicted.item()\n",
    "\n",
    "    return predicted_class\n",
    "\n",
    "\n",
    "# Example usage:\n",
    "\n",
    "image_path = \"0.png\"\n",
    "predicted_class = predict(image_path)\n",
    "print(f\"Lớp dự đoán: {predicted_class}\")"
   ],
   "id": "f0893e1db0f8bdcc",
   "outputs": [
    {
     "data": {
      "text/plain": [
       "<Figure size 640x480 with 1 Axes>"
      ],
      "image/png": "[encoded data removed]"
     },
     "metadata": {},
     "output_type": "display_data"
    },
    {
     "name": "stdout",
     "output_type": "stream",
     "text": [
      "Lớp dự đoán: 0\n"
     ]
    },
    {
     "name": "stderr",
     "output_type": "stream",
     "text": [
      "/tmp/ipykernel_9797/1159784526.py:24: FutureWarning: You are using `torch.load` with `weights_only=False` (the current default value), which uses the default pickle module implicitly. It is possible to construct malicious pickle data which will execute arbitrary code during unpickling (See https://github.com/pytorch/pytorch/blob/main/SECURITY.md#untrusted-models for more details). In a future release, the default value for `weights_only` will be flipped to `True`. This limits the functions that could be executed during unpickling. Arbitrary objects will no longer be allowed to be loaded via this mode unless they are explicitly allowlisted by the user via `torch.serialization.add_safe_globals`. We recommend you start setting `weights_only=True` for any use case where you don't have full control of the loaded file. Please open an issue on GitHub for any issues related to this experimental feature.\n",
      "  model.load_state_dict(torch.load(best_model_path))\n"
     ]
    }
   ],
   "execution_count": 20
  }
 ],
 "metadata": {
  "kernelspec": {
   "display_name": "Python 3",
   "language": "python",
   "name": "python3"
  },
  "language_info": {
   "codemirror_mode": {
    "name": "ipython",
    "version": 2
   },
   "file_extension": ".py",
   "mimetype": "text/x-python",
   "name": "python",
   "nbconvert_exporter": "python",
   "pygments_lexer": "ipython2",
   "version": "2.7.6"
  }
 },
 "nbformat": 4,
 "nbformat_minor": 5
}
